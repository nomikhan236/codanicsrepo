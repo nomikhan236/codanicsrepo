{
 "cells": [
  {
   "cell_type": "code",
   "execution_count": 2,
   "metadata": {},
   "outputs": [
    {
     "name": "stdout",
     "output_type": "stream",
     "text": [
      "nomi\n",
      "nomi\n",
      "nomi\n",
      "nomi\n",
      "nomi\n",
      "\n"
     ]
    }
   ],
   "source": [
    "# print nomi 5 times\n",
    "print('nomi\\n'*5)"
   ]
  },
  {
   "cell_type": "code",
   "execution_count": 3,
   "metadata": {},
   "outputs": [
    {
     "name": "stdout",
     "output_type": "stream",
     "text": [
      "what is your name\n",
      "nomi khan\n",
      "my name is  nomi khan\n"
     ]
    }
   ],
   "source": [
    "#ex2\n",
    "print('what is your name')\n",
    "my_name = input()\n",
    "print('my name is ' , my_name)"
   ]
  },
  {
   "cell_type": "code",
   "execution_count": 5,
   "metadata": {},
   "outputs": [
    {
     "name": "stdout",
     "output_type": "stream",
     "text": [
      "enter some stringsaquickfoxjumpsoverthelazydog\n",
      "28\n"
     ]
    }
   ],
   "source": [
    "# ex of len()\n",
    "length = input('enter some strings')\n",
    "print(len(length))"
   ]
  },
  {
   "cell_type": "code",
   "execution_count": null,
   "metadata": {},
   "outputs": [],
   "source": []
  }
 ],
 "metadata": {
  "kernelspec": {
   "display_name": "Python 3",
   "language": "python",
   "name": "python3"
  },
  "language_info": {
   "codemirror_mode": {
    "name": "ipython",
    "version": 3
   },
   "file_extension": ".py",
   "mimetype": "text/x-python",
   "name": "python",
   "nbconvert_exporter": "python",
   "pygments_lexer": "ipython3",
   "version": "3.8.5"
  }
 },
 "nbformat": 4,
 "nbformat_minor": 4
}
