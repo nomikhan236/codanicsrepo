{
 "cells": [
  {
   "cell_type": "code",
   "execution_count": 30,
   "metadata": {},
   "outputs": [
    {
     "name": "stdout",
     "output_type": "stream",
     "text": [
      "enter your password236\n",
      "Access granted\n"
     ]
    }
   ],
   "source": [
    "passwordFile = open('nomi.txt')\n",
    "secretPassword = passwordFile.read()\n",
    "typedPassword = input('enter your password')\n",
    "# print('Enter your password.')\n",
    "#    typedPassword = input()\n",
    "if typedPassword == secretPassword:\n",
    "    print('Access granted')\n",
    "elif typedPassword == '123':\n",
    "    print('That password is one that an idiot puts on their language.')\n",
    "else:\n",
    "    print('access denied')"
   ]
  },
  {
   "cell_type": "code",
   "execution_count": null,
   "metadata": {},
   "outputs": [],
   "source": [
    "# this is just for checking my repo\n",
    "# this is new line thanks"
   ]
  }
 ],
 "metadata": {
  "kernelspec": {
   "display_name": "Python 3",
   "language": "python",
   "name": "python3"
  },
  "language_info": {
   "codemirror_mode": {
    "name": "ipython",
    "version": 3
   },
   "file_extension": ".py",
   "mimetype": "text/x-python",
   "name": "python",
   "nbconvert_exporter": "python",
   "pygments_lexer": "ipython3",
   "version": "3.8.5"
  }
 },
 "nbformat": 4,
 "nbformat_minor": 4
}
